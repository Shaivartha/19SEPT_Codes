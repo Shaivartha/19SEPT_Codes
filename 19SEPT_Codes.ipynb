{
  "nbformat": 4,
  "nbformat_minor": 0,
  "metadata": {
    "colab": {
      "provenance": [],
      "authorship_tag": "ABX9TyNfxte8YRV1gzkRoFAZdnf6",
      "include_colab_link": true
    },
    "kernelspec": {
      "name": "python3",
      "display_name": "Python 3"
    },
    "language_info": {
      "name": "python"
    }
  },
  "cells": [
    {
      "cell_type": "markdown",
      "metadata": {
        "id": "view-in-github",
        "colab_type": "text"
      },
      "source": [
        "<a href=\"https://colab.research.google.com/github/Shaivartha/19SEPT_Codes/blob/main/19SEPT_Codes.ipynb\" target=\"_parent\"><img src=\"https://colab.research.google.com/assets/colab-badge.svg\" alt=\"Open In Colab\"/></a>"
      ]
    },
    {
      "cell_type": "code",
      "execution_count": null,
      "metadata": {
        "colab": {
          "base_uri": "https://localhost:8080/"
        },
        "id": "oMuioYrwkBev",
        "outputId": "98660963-9289-4772-8dd5-21b2edc54299"
      },
      "outputs": [
        {
          "output_type": "stream",
          "name": "stdout",
          "text": [
            "Enter a number: sd\n",
            "Invalid Number, Try Again\n",
            "Enter a number: sa\n",
            "Invalid Number, Try Again\n",
            "Enter a number: 3\n",
            "Thank-you!\n"
          ]
        }
      ],
      "source": [
        "# Exception\n",
        "while True:\n",
        "  try:\n",
        "    x = int(input(\"Enter a number: \"))\n",
        "    print(\"Thank-you!\")\n",
        "    break\n",
        "  except ValueError:\n",
        "    print(\"Invalid Number, Try Again\")"
      ]
    },
    {
      "cell_type": "code",
      "source": [
        "try:\n",
        "  raise Exception('spam' , 'eggs')\n",
        "except Exception as inst:\n",
        "  print(type(inst)) #the exception type\n",
        "  print(inst.args)  #argumens stored in args\n",
        "  print(inst)       #__str__ allows args ti be printed directly\n",
        "                    #but maybe overidden\n",
        "  x, y = inst.args  #unpack args\n",
        "  print('x =', x)\n",
        "  print('y =', y)"
      ],
      "metadata": {
        "colab": {
          "base_uri": "https://localhost:8080/"
        },
        "id": "ua3IJTsXp_HQ",
        "outputId": "b28fbf11-519a-49c4-c7ce-f7bfd09c8e43"
      },
      "execution_count": 6,
      "outputs": [
        {
          "output_type": "stream",
          "name": "stdout",
          "text": [
            "<class 'Exception'>\n",
            "('spam', 'eggs')\n",
            "('spam', 'eggs')\n",
            "x = spam\n",
            "y = eggs\n"
          ]
        }
      ]
    },
    {
      "cell_type": "code",
      "source": [
        "import sys\n",
        "\n",
        "try:\n",
        "     print(sys.path)\n",
        "     f = open(\"MyFile.txt\")\n",
        "     s = f.readline()\n",
        "     i = int(s.strip())\n",
        "     print(i)\n",
        "except OSError as err:\n",
        "     print(\"OS Error: \",err)\n",
        "except ValueError:\n",
        "     print(\"Could not contain data into an integer.\")\n",
        "except Exception as err:\n",
        "     print(f\"Unexcepted {err=}. {type(err)=}\")\n",
        "     raise"
      ],
      "metadata": {
        "colab": {
          "base_uri": "https://localhost:8080/"
        },
        "id": "0grIKJxUsJTU",
        "outputId": "1a0b8085-63c2-4fe3-eca9-7fb63c43aa0a"
      },
      "execution_count": 20,
      "outputs": [
        {
          "output_type": "stream",
          "name": "stdout",
          "text": [
            "['/content', '/env/python', '/usr/lib/python310.zip', '/usr/lib/python3.10', '/usr/lib/python3.10/lib-dynload', '', '/usr/local/lib/python3.10/dist-packages', '/usr/lib/python3/dist-packages', '/usr/local/lib/python3.10/dist-packages/IPython/extensions', '/usr/local/lib/python3.10/dist-packages/setuptools/_vendor', '/root/.ipython']\n",
            "455\n"
          ]
        }
      ]
    }
  ]
}